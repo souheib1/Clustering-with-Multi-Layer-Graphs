{
 "cells": [
  {
   "cell_type": "markdown",
   "metadata": {},
   "source": [
    "\n",
    "<center> <h2>CA-HepTh dataset</h2> </center><br>\n",
    "\n",
    "[Source : sparse.tamu.edu/SNAP/ca-HepTh](https://sparse.tamu.edu/SNAP/ca-HepTh)\n",
    "\n",
    "Description : Arxiv HEP-TH (High Energy Physics - Theory) collaboration network is from the e-print arXiv and covers scientific collaborations between authors papers submitted to High Energy Physics - Theory category. If an author i co-authored a paper with author j, the graph contains a undirected edge from i to j. If the paper is co-authored by k authors this generates a completely connected (sub)graph on k nodes.                                                        \n",
    "                                                                               \n",
    "The data covers papers in the period from January 1993 to April 2003 (124 months). It begins within a few months of the inception of the arXiv, and thus represents essentially the complete history of its HEP-TH section.\n",
    "\n"
   ]
  },
  {
   "cell_type": "code",
   "execution_count": 1,
   "metadata": {},
   "outputs": [],
   "source": [
    "import networkx as nx\n",
    "import numpy as np\n",
    "from scipy.sparse.linalg import eigs\n",
    "from scipy.sparse import diags, eye\n",
    "from random import randint\n",
    "from sklearn.cluster import KMeans\n",
    "from collections import Counter\n",
    "import matplotlib.pyplot as plt"
   ]
  },
  {
   "cell_type": "code",
   "execution_count": 2,
   "metadata": {},
   "outputs": [],
   "source": [
    "from utils import degree_distribution, spectral_clustering, modularity"
   ]
  },
  {
   "cell_type": "code",
   "execution_count": 3,
   "metadata": {},
   "outputs": [
    {
     "name": "stdout",
     "output_type": "stream",
     "text": [
      "The number of nodes = 9877\n",
      "The number of edges = 25998\n",
      "Number of connected components = 429\n"
     ]
    }
   ],
   "source": [
    "path = \"./datasets/CA-HepTh.txt\"\n",
    "graph = nx.readwrite.edgelist.read_edgelist(path, delimiter='\\t')\n",
    "n_nodes = graph.number_of_nodes()\n",
    "n_edges = graph.number_of_edges()\n",
    "print(f\"The number of nodes = {n_nodes}\")\n",
    "print(f\"The number of edges = {n_edges}\")\n",
    "connected_components = nx.connected_components(graph)\n",
    "sorted_components = [c for c in sorted(connected_components, key=len)]\n",
    "print(f\"Number of connected components = {len(sorted_components)}\")"
   ]
  },
  {
   "cell_type": "code",
   "execution_count": 4,
   "metadata": {},
   "outputs": [
    {
     "name": "stdout",
     "output_type": "stream",
     "text": [
      "Number of nodes of largest connected component = 8638\n",
      "Number of edges of largest connected component = 24827\n"
     ]
    }
   ],
   "source": [
    "largest_cc = sorted_components[-1] # last element of the sorted list (increasing order)\n",
    "largest_subgraph = graph.subgraph(largest_cc)\n",
    "n_nodes_largest_cc = largest_subgraph.number_of_nodes()\n",
    "n_edges_largest_cc = largest_subgraph.number_of_edges()\n",
    "print(f\"Number of nodes of largest connected component = {n_nodes_largest_cc}\")\n",
    "print(f\"Number of edges of largest connected component = {n_edges_largest_cc}\")"
   ]
  },
  {
   "cell_type": "code",
   "execution_count": 5,
   "metadata": {},
   "outputs": [
    {
     "data": {
      "image/png": "[encoded data removed]",
      "text/plain": [
       "<Figure size 576x288 with 2 Axes>"
      ]
     },
     "metadata": {
      "needs_background": "light"
     },
     "output_type": "display_data"
    }
   ],
   "source": [
    "h = degree_distribution(graph,aff=True)"
   ]
  },
  {
   "cell_type": "code",
   "execution_count": 7,
   "metadata": {},
   "outputs": [
    {
     "name": "stdout",
     "output_type": "stream",
     "text": [
      "Number of nodes per cluster: Counter({1: 7676, 18: 75, 49: 74, 48: 59, 46: 51, 32: 48, 29: 32, 37: 32, 16: 28, 42: 28, 35: 27, 17: 27, 47: 26, 45: 26, 44: 25, 6: 24, 43: 22, 38: 21, 41: 21, 7: 19, 22: 18, 13: 17, 5: 15, 33: 15, 0: 15, 21: 15, 36: 13, 39: 12, 14: 11, 12: 11, 15: 10, 34: 10, 40: 9, 8: 9, 2: 9, 27: 9, 20: 9, 3: 8, 28: 8, 23: 8, 24: 8, 30: 8, 9: 8, 26: 7, 25: 7, 19: 6, 4: 6, 31: 6, 11: 5, 10: 5})\n",
      "Modularity for the largest_subgraph: 0.171181252074806\n"
     ]
    }
   ],
   "source": [
    "graph = nx.readwrite.edgelist.read_edgelist(path, delimiter='\\t')\n",
    "connected_components = nx.connected_components(graph)\n",
    "sorted_components = [c for c in sorted(connected_components, key=len)]\n",
    "largest_cc = sorted_components[-1]\n",
    "largest_subgraph = graph.subgraph(largest_cc)\n",
    "clustering = spectral_clustering(G=largest_subgraph, k=50)\n",
    "#print(f\"Clusters: {clustering}\")\n",
    "counter = Counter(clustering.values())\n",
    "print(f\"Number of nodes per cluster: {counter}\")\n",
    "print(f\"Modularity for the largest_subgraph: {modularity(largest_subgraph, clustering)}\")"
   ]
  }
 ],
 "metadata": {
  "kernelspec": {
   "display_name": "allwhatyouneed",
   "language": "python",
   "name": "python3"
  },
  "language_info": {
   "codemirror_mode": {
    "name": "ipython",
    "version": 3
   },
   "file_extension": ".py",
   "mimetype": "text/x-python",
   "name": "python",
   "nbconvert_exporter": "python",
   "pygments_lexer": "ipython3",
   "version": "3.9.7"
  }
 },
 "nbformat": 4,
 "nbformat_minor": 2
}
