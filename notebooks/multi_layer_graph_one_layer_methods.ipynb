{
 "cells": [
  {
   "cell_type": "code",
   "execution_count": 1,
   "metadata": {},
   "outputs": [],
   "source": [
    "from data import Dataset\n",
    "import numpy as np\n",
    "from utils import spectral_clustering, modularity\n",
    "from metrics import purity_score, nmi_score, ri_score\n",
    "%reload_ext autoreload\n",
    "%autoreload 2   \n",
    "#!pip install tabulate\n",
    "from tabulate import tabulate"
   ]
  },
  {
   "cell_type": "code",
   "execution_count": 2,
   "metadata": {},
   "outputs": [],
   "source": [
    "def clustering_spectral(dataset,verbose=True): \n",
    "    dataset = Dataset(dataset, preprocess=False)\n",
    "    W = dataset.MLG\n",
    "    nb_layers = len(W)\n",
    "    k = np.unique(dataset.labels).shape[0]\n",
    "    print(\"number of clusers \",k)\n",
    "    true_labels = dataset.labels\n",
    "    N = len(true_labels)\n",
    "    ground_truth_clustering = {i: true_labels[i] for i in range(N)}\n",
    "    results = []\n",
    "    for layer_id in range(nb_layers):\n",
    "        print(f\"Layer {layer_id}\")\n",
    "        labels = spectral_clustering(W[layer_id],k)\n",
    "        clustering = {i: labels[i] for i in range(N)}\n",
    "        purity = purity_score(clustering, ground_truth_clustering)\n",
    "        nmi = nmi_score(clustering, ground_truth_clustering)\n",
    "        ri = ri_score(clustering, ground_truth_clustering)\n",
    "        if verbose:\n",
    "            print(\"purity \",purity)\n",
    "            print(\"nmi \",nmi)\n",
    "            print(\"ri \",ri)\n",
    "        results.append([f\"Layer {layer_id}\", purity, nmi, ri])\n",
    "        \n",
    "    headers = [\"Layer\", \"Purity\", \"NMI\", \"RI\"]\n",
    "    print(tabulate(results, headers=headers, tablefmt=\"grid\"))\n",
    "            \n",
    " \n"
   ]
  },
  {
   "cell_type": "markdown",
   "metadata": {},
   "source": [
    "# Aucs"
   ]
  },
  {
   "cell_type": "code",
   "execution_count": 3,
   "metadata": {},
   "outputs": [
    {
     "name": "stdout",
     "output_type": "stream",
     "text": [
      "number of clusers  7\n",
      "Layer 0\n",
      "Layer 1\n",
      "Layer 2\n",
      "Layer 3\n",
      "Layer 4\n",
      "+---------+----------+----------+----------+\n",
      "| Layer   |   Purity |      NMI |       RI |\n",
      "+=========+==========+==========+==========+\n",
      "| Layer 0 | 0.87037  | 0.848737 | 0.937107 |\n",
      "+---------+----------+----------+----------+\n",
      "| Layer 1 | 0.537037 | 0.449799 | 0.704403 |\n",
      "+---------+----------+----------+----------+\n",
      "| Layer 2 | 0.62963  | 0.537216 | 0.792453 |\n",
      "+---------+----------+----------+----------+\n",
      "| Layer 3 | 0.777778 | 0.744166 | 0.886792 |\n",
      "+---------+----------+----------+----------+\n",
      "| Layer 4 | 0.518519 | 0.447117 | 0.66457  |\n",
      "+---------+----------+----------+----------+\n"
     ]
    }
   ],
   "source": [
    "clustering_spectral(\"AUCS\",verbose=False)"
   ]
  },
  {
   "cell_type": "markdown",
   "metadata": {},
   "source": [
    "# MIT "
   ]
  },
  {
   "cell_type": "code",
   "execution_count": 4,
   "metadata": {},
   "outputs": [
    {
     "name": "stdout",
     "output_type": "stream",
     "text": [
      "number of clusers  9\n",
      "Layer 0\n",
      "Layer 1\n",
      "Layer 2\n",
      "+---------+----------+----------+----------+\n",
      "| Layer   |   Purity |      NMI |       RI |\n",
      "+=========+==========+==========+==========+\n",
      "| Layer 0 | 0.622222 | 0.377524 | 0.621723 |\n",
      "+---------+----------+----------+----------+\n",
      "| Layer 1 | 0.5      | 0.202136 | 0.425968 |\n",
      "+---------+----------+----------+----------+\n",
      "| Layer 2 | 0.544444 | 0.317271 | 0.683895 |\n",
      "+---------+----------+----------+----------+\n"
     ]
    }
   ],
   "source": [
    "clustering_spectral(\"MIT\",verbose=False)"
   ]
  },
  {
   "cell_type": "markdown",
   "metadata": {},
   "source": [
    "# Cora"
   ]
  },
  {
   "cell_type": "code",
   "execution_count": 5,
   "metadata": {},
   "outputs": [
    {
     "name": "stdout",
     "output_type": "stream",
     "text": [
      "number of clusers  3\n",
      "Layer 0\n",
      "Layer 1\n",
      "Layer 2\n",
      "+---------+----------+------------+----------+\n",
      "| Layer   |   Purity |        NMI |       RI |\n",
      "+=========+==========+============+==========+\n",
      "| Layer 0 | 0.526082 | 0.00843386 | 0.415109 |\n",
      "+---------+----------+------------+----------+\n",
      "| Layer 1 | 0.609323 | 0.236837   | 0.523628 |\n",
      "+---------+----------+------------+----------+\n",
      "| Layer 2 | 0.522752 | 0.0149754  | 0.413745 |\n",
      "+---------+----------+------------+----------+\n"
     ]
    }
   ],
   "source": [
    "clustering_spectral(\"Cora\",verbose=False)"
   ]
  },
  {
   "cell_type": "markdown",
   "metadata": {},
   "source": [
    "# Cora small"
   ]
  },
  {
   "cell_type": "code",
   "execution_count": 6,
   "metadata": {},
   "outputs": [
    {
     "name": "stdout",
     "output_type": "stream",
     "text": [
      "number of clusers  3\n",
      "Layer 0\n",
      "Layer 1\n",
      "Layer 2\n",
      "+---------+----------+-----------+----------+\n",
      "| Layer   |   Purity |       NMI |       RI |\n",
      "+=========+==========+===========+==========+\n",
      "| Layer 0 | 0.444444 | 0.0451456 | 0.376779 |\n",
      "+---------+----------+-----------+----------+\n",
      "| Layer 1 | 0.722222 | 0.390399  | 0.666167 |\n",
      "+---------+----------+-----------+----------+\n",
      "| Layer 2 | 0.466667 | 0.0997387 | 0.428714 |\n",
      "+---------+----------+-----------+----------+\n"
     ]
    }
   ],
   "source": [
    "dataset = Dataset(\"Cora\", extended=False, preprocess=False)\n",
    "W = dataset.MLG\n",
    "nb_layers = len(W)\n",
    "k = np.unique(dataset.labels).shape[0]\n",
    "print(\"number of clusers \",k)\n",
    "true_labels = dataset.labels\n",
    "N = len(true_labels)\n",
    "ground_truth_clustering = {i: true_labels[i] for i in range(N)}\n",
    "\n",
    "results = []\n",
    "for layer_id in range(nb_layers):\n",
    "    print(f\"Layer {layer_id}\")\n",
    "    labels = spectral_clustering(W[layer_id],k)\n",
    "    clustering = {i: labels[i] for i in range(N)}\n",
    "    purity = purity_score(clustering, ground_truth_clustering)\n",
    "    nmi = nmi_score(clustering, ground_truth_clustering)\n",
    "    ri = ri_score(clustering, ground_truth_clustering)\n",
    "    results.append([f\"Layer {layer_id}\", purity, nmi, ri])\n",
    "    \n",
    "headers = [\"Layer\", \"Purity\", \"NMI\", \"RI\"]\n",
    "print(tabulate(results, headers=headers, tablefmt=\"grid\"))"
   ]
  }
 ],
 "metadata": {
  "kernelspec": {
   "display_name": ".venv",
   "language": "python",
   "name": "python3"
  },
  "language_info": {
   "codemirror_mode": {
    "name": "ipython",
    "version": 3
   },
   "file_extension": ".py",
   "mimetype": "text/x-python",
   "name": "python",
   "nbconvert_exporter": "python",
   "pygments_lexer": "ipython3",
   "version": "3.7.11"
  }
 },
 "nbformat": 4,
 "nbformat_minor": 2
}
